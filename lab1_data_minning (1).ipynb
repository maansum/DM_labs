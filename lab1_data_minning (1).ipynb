{
  "nbformat": 4,
  "nbformat_minor": 0,
  "metadata": {
    "colab": {
      "provenance": []
    },
    "kernelspec": {
      "name": "python3",
      "display_name": "Python 3"
    },
    "language_info": {
      "name": "python"
    }
  },
  "cells": [
    {
      "cell_type": "code",
      "execution_count": null,
      "metadata": {
        "id": "LV7IbxQaFswP"
      },
      "outputs": [],
      "source": [
        "import numpy as np\n",
        "from sklearn.linear_model import LinearRegression\n",
        "import matplotlib.pyplot as plt"
      ]
    },
    {
      "cell_type": "code",
      "source": [
        "data =np.genfromtxt('/content/sample.csv', delimiter=',')\n",
        "data"
      ],
      "metadata": {
        "colab": {
          "base_uri": "https://localhost:8080/"
        },
        "id": "AQeLatJIHUou",
        "outputId": "f8413a1b-0bb3-4bb9-989b-4902fed5fb0a"
      },
      "execution_count": null,
      "outputs": [
        {
          "output_type": "execute_result",
          "data": {
            "text/plain": [
              "array([[    nan,     nan],\n",
              "       [1714.  ,    2.4 ],\n",
              "       [1664.  ,    2.52],\n",
              "       [1760.  ,    2.54],\n",
              "       [1685.  ,    2.74],\n",
              "       [1693.  ,    2.83],\n",
              "       [1670.  ,    2.91],\n",
              "       [1764.  ,    3.  ],\n",
              "       [1764.  ,    3.  ],\n",
              "       [1792.  ,    3.01],\n",
              "       [1850.  ,    3.01],\n",
              "       [1735.  ,    3.02],\n",
              "       [1775.  ,    3.07],\n",
              "       [1735.  ,    3.08],\n",
              "       [1712.  ,    3.08],\n",
              "       [1773.  ,    3.12],\n",
              "       [1872.  ,    3.17],\n",
              "       [1755.  ,    3.17],\n",
              "       [1674.  ,    3.17],\n",
              "       [1842.  ,    3.17],\n",
              "       [1786.  ,    3.19],\n",
              "       [1761.  ,    3.19],\n",
              "       [1722.  ,    3.19],\n",
              "       [1663.  ,    3.2 ],\n",
              "       [1687.  ,    3.21],\n",
              "       [1974.  ,    3.24],\n",
              "       [1826.  ,    3.28],\n",
              "       [1787.  ,    3.28],\n",
              "       [1821.  ,    3.28],\n",
              "       [2020.  ,    3.28],\n",
              "       [1794.  ,    3.28],\n",
              "       [1769.  ,    3.28],\n",
              "       [1934.  ,    3.28],\n",
              "       [1775.  ,    3.29],\n",
              "       [1855.  ,    3.29],\n",
              "       [1880.  ,    3.29],\n",
              "       [1849.  ,    3.31],\n",
              "       [1808.  ,    3.32],\n",
              "       [1954.  ,    3.34],\n",
              "       [1777.  ,    3.37],\n",
              "       [1831.  ,    3.37],\n",
              "       [1865.  ,    3.37],\n",
              "       [1850.  ,    3.38],\n",
              "       [1966.  ,    3.38],\n",
              "       [1702.  ,    3.39],\n",
              "       [1990.  ,    3.39],\n",
              "       [1925.  ,    3.4 ],\n",
              "       [1824.  ,    3.4 ],\n",
              "       [1956.  ,    3.4 ],\n",
              "       [1857.  ,    3.41],\n",
              "       [1979.  ,    3.41],\n",
              "       [1802.  ,    3.41],\n",
              "       [1855.  ,    3.42],\n",
              "       [1907.  ,    3.42],\n",
              "       [1634.  ,    3.42],\n",
              "       [1879.  ,    3.44],\n",
              "       [1887.  ,    3.47],\n",
              "       [1730.  ,    3.47],\n",
              "       [1953.  ,    3.47],\n",
              "       [1781.  ,    3.47],\n",
              "       [1891.  ,    3.48],\n",
              "       [1964.  ,    3.49],\n",
              "       [1808.  ,    3.49],\n",
              "       [1893.  ,    3.5 ],\n",
              "       [2041.  ,    3.51],\n",
              "       [1893.  ,    3.51],\n",
              "       [1832.  ,    3.52],\n",
              "       [1850.  ,    3.52],\n",
              "       [1934.  ,    3.54],\n",
              "       [1861.  ,    3.58],\n",
              "       [1931.  ,    3.58],\n",
              "       [1933.  ,    3.59],\n",
              "       [1778.  ,    3.59],\n",
              "       [1975.  ,    3.6 ],\n",
              "       [1934.  ,    3.6 ],\n",
              "       [2021.  ,    3.61],\n",
              "       [2015.  ,    3.62],\n",
              "       [1997.  ,    3.64],\n",
              "       [2020.  ,    3.65],\n",
              "       [1843.  ,    3.71],\n",
              "       [1936.  ,    3.71],\n",
              "       [1810.  ,    3.71],\n",
              "       [1987.  ,    3.73],\n",
              "       [1962.  ,    3.76],\n",
              "       [2050.  ,    3.81]])"
            ]
          },
          "metadata": {},
          "execution_count": 10
        }
      ]
    },
    {
      "cell_type": "code",
      "source": [
        "# Training Data stored in numpy array for speed and more functionality\n",
        "x = np.array([[5], [15], [25], [35], [45], [55]])\n",
        "y = np.array([5, 20, 14, 32, 22, 38])\n",
        "# Create a linear regression model\n",
        "model = LinearRegression()\n",
        "# Fit the model with given data\n",
        "model.fit(x, y)\n",
        "# Predict the output (y) for the values of x\n",
        "y_pred = model.predict(x)\n",
        "# Predict the new value\n",
        "to_predict = [[100]]\n",
        "predicted = model.predict(to_predict)\n",
        "print('predicted:', predicted)\n",
        "# Make individual plots individually without connecting them\n",
        "plt.scatter(x, y)\n",
        "# Make line plots\n",
        "plt.plot(x, y_pred, c='red')\n",
        "# Plot the predicted plot in the graph\n",
        "plt.scatter(to_predict, predicted, c='red')\n",
        "plt.xlabel('x')\n",
        "plt.ylabel('y')\n",
        "plt.show()"
      ],
      "metadata": {
        "colab": {
          "base_uri": "https://localhost:8080/",
          "height": 467
        },
        "id": "wQ2eBMLkHJJf",
        "outputId": "8528a5d5-27e1-445a-a50f-ce0dc57784cd"
      },
      "execution_count": null,
      "outputs": [
        {
          "output_type": "stream",
          "name": "stdout",
          "text": [
            "predicted: [59.63333333]\n"
          ]
        },
        {
          "output_type": "display_data",
          "data": {
            "text/plain": [
              "<Figure size 640x480 with 1 Axes>"
            ],
            "image/png": "[encoded data removed]"
          },
          "metadata": {}
        }
      ]
    }
  ]
}